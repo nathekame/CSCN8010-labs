{
 "cells": [
  {
   "cell_type": "code",
   "execution_count": 1,
   "metadata": {},
   "outputs": [
    {
     "name": "stderr",
     "output_type": "stream",
     "text": [
      "2024-03-30 20:48:06.884327: I tensorflow/core/platform/cpu_feature_guard.cc:182] This TensorFlow binary is optimized to use available CPU instructions in performance-critical operations.\n",
      "To enable the following instructions: AVX2 FMA, in other operations, rebuild TensorFlow with the appropriate compiler flags.\n"
     ]
    },
    {
     "name": "stdout",
     "output_type": "stream",
     "text": [
      "Cross-entropy Loss: 0.6931472\n"
     ]
    }
   ],
   "source": [
    "import tensorflow as tf\n",
    "\n",
    "# True probabilities\n",
    "true_probs = [0, 0, 1]\n",
    "\n",
    "# Predicted probabilities\n",
    "pred_probs = [0.2, 0.3, 0.5]\n",
    "\n",
    "# Reshape the arrays to match the required input shape\n",
    "true_probs_tensor = tf.reshape(tf.constant(true_probs), shape=(1, 3))\n",
    "pred_probs_tensor = tf.reshape(tf.constant(pred_probs), shape=(1, 3))\n",
    "\n",
    "# Calculate the cross-entropy loss\n",
    "loss_function = tf.keras.losses.CategoricalCrossentropy()\n",
    "loss = loss_function(true_probs_tensor, pred_probs_tensor)\n",
    "\n",
    "print(\"Cross-entropy Loss:\", loss.numpy())\n"
   ]
  },
  {
   "cell_type": "code",
   "execution_count": 3,
   "metadata": {},
   "outputs": [
    {
     "ename": "IndexError",
     "evalue": "list index out of range",
     "output_type": "error",
     "traceback": [
      "\u001b[0;31m---------------------------------------------------------------------------\u001b[0m",
      "\u001b[0;31mIndexError\u001b[0m                                Traceback (most recent call last)",
      "Cell \u001b[0;32mIn[3], line 26\u001b[0m\n\u001b[1;32m     24\u001b[0m \u001b[38;5;66;03m# Example usage:\u001b[39;00m\n\u001b[1;32m     25\u001b[0m message_file \u001b[38;5;241m=\u001b[39m \u001b[38;5;124m\"\u001b[39m\u001b[38;5;124mdata/coding_qual_input.txt\u001b[39m\u001b[38;5;124m\"\u001b[39m  \u001b[38;5;66;03m# Provide the path to your encoded message file\u001b[39;00m\n\u001b[0;32m---> 26\u001b[0m decoded_message \u001b[38;5;241m=\u001b[39m \u001b[43mdecode\u001b[49m\u001b[43m(\u001b[49m\u001b[43mmessage_file\u001b[49m\u001b[43m)\u001b[49m\n\u001b[1;32m     27\u001b[0m \u001b[38;5;28mprint\u001b[39m(decoded_message)\n",
      "Cell \u001b[0;32mIn[3], line 20\u001b[0m, in \u001b[0;36mdecode\u001b[0;34m(message_file)\u001b[0m\n\u001b[1;32m     18\u001b[0m decoded_message \u001b[38;5;241m=\u001b[39m \u001b[38;5;124m'\u001b[39m\u001b[38;5;124m'\u001b[39m\n\u001b[1;32m     19\u001b[0m \u001b[38;5;28;01mfor\u001b[39;00m i \u001b[38;5;129;01min\u001b[39;00m \u001b[38;5;28mrange\u001b[39m(max_number):\n\u001b[0;32m---> 20\u001b[0m     decoded_message \u001b[38;5;241m+\u001b[39m\u001b[38;5;241m=\u001b[39m \u001b[43mpyramid\u001b[49m\u001b[43m[\u001b[49m\u001b[43mi\u001b[49m\u001b[43m]\u001b[49m\u001b[43m[\u001b[49m\u001b[43mi\u001b[49m\u001b[43m]\u001b[49m\n\u001b[1;32m     22\u001b[0m \u001b[38;5;28;01mreturn\u001b[39;00m decoded_message\n",
      "\u001b[0;31mIndexError\u001b[0m: list index out of range"
     ]
    }
   ],
   "source": [
    "def decode(message_file):\n",
    "    # Read the contents of the file\n",
    "    with open(message_file, 'r') as file:\n",
    "        lines = file.readlines()\n",
    "\n",
    "    # Parse each line to extract number-word pairs\n",
    "    pairs = [(int(line.split()[0]), line.split()[1]) for line in lines]\n",
    "\n",
    "    # Determine the pyramid structure based on the numbers\n",
    "    max_number = max(pair[0] for pair in pairs)\n",
    "    pyramid = [[] for _ in range(max_number)]\n",
    "\n",
    "    # Populate the pyramid with words\n",
    "    for number, word in pairs:\n",
    "        pyramid[number - 1].append(word)\n",
    "\n",
    "    # Traverse the pyramid to gather the words based on specified numbers\n",
    "    decoded_message = ''\n",
    "    for i in range(max_number):\n",
    "        decoded_message += pyramid[i][i]\n",
    "\n",
    "    return decoded_message\n",
    "\n",
    "# Example usage:\n",
    "message_file = \"data/coding_qual_input.txt\"  # Provide the path to your encoded message file\n",
    "decoded_message = decode(message_file)\n",
    "print(decoded_message)\n"
   ]
  },
  {
   "cell_type": "code",
   "execution_count": null,
   "metadata": {
    "vscode": {
     "languageId": "javascript"
    }
   },
   "outputs": [],
   "source": []
  }
 ],
 "metadata": {
  "kernelspec": {
   "display_name": "tensorflow_cpu",
   "language": "python",
   "name": "python3"
  },
  "language_info": {
   "codemirror_mode": {
    "name": "ipython",
    "version": 3
   },
   "file_extension": ".py",
   "mimetype": "text/x-python",
   "name": "python",
   "nbconvert_exporter": "python",
   "pygments_lexer": "ipython3",
   "version": "3.10.12"
  }
 },
 "nbformat": 4,
 "nbformat_minor": 2
}
